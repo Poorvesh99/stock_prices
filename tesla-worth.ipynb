{
 "cells": [
  {
   "cell_type": "code",
   "execution_count": 1,
   "id": "01031edb",
   "metadata": {
    "_cell_guid": "b1076dfc-b9ad-4769-8c92-a6c4dae69d19",
    "_uuid": "8f2839f25d086af736a60e9eeb907d3b93b6e0e5",
    "execution": {
     "iopub.execute_input": "2024-05-18T20:17:30.272745Z",
     "iopub.status.busy": "2024-05-18T20:17:30.271636Z",
     "iopub.status.idle": "2024-05-18T20:17:31.270392Z",
     "shell.execute_reply": "2024-05-18T20:17:31.269279Z"
    },
    "papermill": {
     "duration": 1.020649,
     "end_time": "2024-05-18T20:17:31.273172",
     "exception": false,
     "start_time": "2024-05-18T20:17:30.252523",
     "status": "completed"
    },
    "tags": []
   },
   "outputs": [
    {
     "name": "stdout",
     "output_type": "stream",
     "text": [
      "/kaggle/input/tesla-stock-price/Tesla.csv - Tesla.csv.csv\n"
     ]
    }
   ],
   "source": [
    "# This Python 3 environment comes with many helpful analytics libraries installed\n",
    "# It is defined by the kaggle/python Docker image: https://github.com/kaggle/docker-python\n",
    "# For example, here's several helpful packages to load\n",
    "\n",
    "import numpy as np # linear algebra\n",
    "import pandas as pd # data processing, CSV file I/O (e.g. pd.read_csv)\n",
    "\n",
    "# Input data files are available in the read-only \"../input/\" directory\n",
    "# For example, running this (by clicking run or pressing Shift+Enter) will list all files under the input directory\n",
    "\n",
    "import os\n",
    "for dirname, _, filenames in os.walk('/kaggle/input'):\n",
    "    for filename in filenames:\n",
    "        print(os.path.join(dirname, filename))\n",
    "\n",
    "# You can write up to 20GB to the current directory (/kaggle/working/) that gets preserved as output when you create a version using \"Save & Run All\" \n",
    "# You can also write temporary files to /kaggle/temp/, but they won't be saved outside of the current session"
   ]
  },
  {
   "cell_type": "code",
   "execution_count": 2,
   "id": "5ff206fa",
   "metadata": {
    "execution": {
     "iopub.execute_input": "2024-05-18T20:17:31.307730Z",
     "iopub.status.busy": "2024-05-18T20:17:31.306614Z",
     "iopub.status.idle": "2024-05-18T20:17:31.312043Z",
     "shell.execute_reply": "2024-05-18T20:17:31.310876Z"
    },
    "papermill": {
     "duration": 0.025006,
     "end_time": "2024-05-18T20:17:31.314344",
     "exception": false,
     "start_time": "2024-05-18T20:17:31.289338",
     "status": "completed"
    },
    "tags": []
   },
   "outputs": [],
   "source": [
    "import matplotlib.pyplot as plt"
   ]
  },
  {
   "cell_type": "code",
   "execution_count": 3,
   "id": "fc69a45a",
   "metadata": {
    "execution": {
     "iopub.execute_input": "2024-05-18T20:17:31.347977Z",
     "iopub.status.busy": "2024-05-18T20:17:31.347549Z",
     "iopub.status.idle": "2024-05-18T20:17:31.397694Z",
     "shell.execute_reply": "2024-05-18T20:17:31.396510Z"
    },
    "papermill": {
     "duration": 0.069893,
     "end_time": "2024-05-18T20:17:31.400152",
     "exception": false,
     "start_time": "2024-05-18T20:17:31.330259",
     "status": "completed"
    },
    "tags": []
   },
   "outputs": [
    {
     "data": {
      "text/html": [
       "<div>\n",
       "<style scoped>\n",
       "    .dataframe tbody tr th:only-of-type {\n",
       "        vertical-align: middle;\n",
       "    }\n",
       "\n",
       "    .dataframe tbody tr th {\n",
       "        vertical-align: top;\n",
       "    }\n",
       "\n",
       "    .dataframe thead th {\n",
       "        text-align: right;\n",
       "    }\n",
       "</style>\n",
       "<table border=\"1\" class=\"dataframe\">\n",
       "  <thead>\n",
       "    <tr style=\"text-align: right;\">\n",
       "      <th></th>\n",
       "      <th>Date</th>\n",
       "      <th>Open</th>\n",
       "      <th>High</th>\n",
       "      <th>Low</th>\n",
       "      <th>Close</th>\n",
       "      <th>Volume</th>\n",
       "      <th>Adj Close</th>\n",
       "    </tr>\n",
       "  </thead>\n",
       "  <tbody>\n",
       "    <tr>\n",
       "      <th>0</th>\n",
       "      <td>6/29/2010</td>\n",
       "      <td>19.000000</td>\n",
       "      <td>25.00</td>\n",
       "      <td>17.540001</td>\n",
       "      <td>23.889999</td>\n",
       "      <td>18766300</td>\n",
       "      <td>23.889999</td>\n",
       "    </tr>\n",
       "    <tr>\n",
       "      <th>1</th>\n",
       "      <td>6/30/2010</td>\n",
       "      <td>25.790001</td>\n",
       "      <td>30.42</td>\n",
       "      <td>23.299999</td>\n",
       "      <td>23.830000</td>\n",
       "      <td>17187100</td>\n",
       "      <td>23.830000</td>\n",
       "    </tr>\n",
       "    <tr>\n",
       "      <th>2</th>\n",
       "      <td>7/1/2010</td>\n",
       "      <td>25.000000</td>\n",
       "      <td>25.92</td>\n",
       "      <td>20.270000</td>\n",
       "      <td>21.959999</td>\n",
       "      <td>8218800</td>\n",
       "      <td>21.959999</td>\n",
       "    </tr>\n",
       "    <tr>\n",
       "      <th>3</th>\n",
       "      <td>7/2/2010</td>\n",
       "      <td>23.000000</td>\n",
       "      <td>23.10</td>\n",
       "      <td>18.709999</td>\n",
       "      <td>19.200001</td>\n",
       "      <td>5139800</td>\n",
       "      <td>19.200001</td>\n",
       "    </tr>\n",
       "    <tr>\n",
       "      <th>4</th>\n",
       "      <td>7/6/2010</td>\n",
       "      <td>20.000000</td>\n",
       "      <td>20.00</td>\n",
       "      <td>15.830000</td>\n",
       "      <td>16.110001</td>\n",
       "      <td>6866900</td>\n",
       "      <td>16.110001</td>\n",
       "    </tr>\n",
       "  </tbody>\n",
       "</table>\n",
       "</div>"
      ],
      "text/plain": [
       "        Date       Open   High        Low      Close    Volume  Adj Close\n",
       "0  6/29/2010  19.000000  25.00  17.540001  23.889999  18766300  23.889999\n",
       "1  6/30/2010  25.790001  30.42  23.299999  23.830000  17187100  23.830000\n",
       "2   7/1/2010  25.000000  25.92  20.270000  21.959999   8218800  21.959999\n",
       "3   7/2/2010  23.000000  23.10  18.709999  19.200001   5139800  19.200001\n",
       "4   7/6/2010  20.000000  20.00  15.830000  16.110001   6866900  16.110001"
      ]
     },
     "execution_count": 3,
     "metadata": {},
     "output_type": "execute_result"
    }
   ],
   "source": [
    "df = pd.read_csv(\"../input/tesla-stock-price/Tesla.csv - Tesla.csv.csv\")\n",
    "df.head()"
   ]
  },
  {
   "cell_type": "code",
   "execution_count": 4,
   "id": "a057904a",
   "metadata": {
    "execution": {
     "iopub.execute_input": "2024-05-18T20:17:31.435649Z",
     "iopub.status.busy": "2024-05-18T20:17:31.435235Z",
     "iopub.status.idle": "2024-05-18T20:17:31.442412Z",
     "shell.execute_reply": "2024-05-18T20:17:31.441011Z"
    },
    "papermill": {
     "duration": 0.026856,
     "end_time": "2024-05-18T20:17:31.444602",
     "exception": false,
     "start_time": "2024-05-18T20:17:31.417746",
     "status": "completed"
    },
    "tags": []
   },
   "outputs": [
    {
     "data": {
      "text/plain": [
       "(1692, 7)"
      ]
     },
     "execution_count": 4,
     "metadata": {},
     "output_type": "execute_result"
    }
   ],
   "source": [
    "df.shape"
   ]
  },
  {
   "cell_type": "code",
   "execution_count": 5,
   "id": "4dfe790c",
   "metadata": {
    "execution": {
     "iopub.execute_input": "2024-05-18T20:17:31.479388Z",
     "iopub.status.busy": "2024-05-18T20:17:31.478945Z",
     "iopub.status.idle": "2024-05-18T20:17:31.515030Z",
     "shell.execute_reply": "2024-05-18T20:17:31.513758Z"
    },
    "papermill": {
     "duration": 0.056629,
     "end_time": "2024-05-18T20:17:31.517611",
     "exception": false,
     "start_time": "2024-05-18T20:17:31.460982",
     "status": "completed"
    },
    "tags": []
   },
   "outputs": [
    {
     "data": {
      "text/html": [
       "<div>\n",
       "<style scoped>\n",
       "    .dataframe tbody tr th:only-of-type {\n",
       "        vertical-align: middle;\n",
       "    }\n",
       "\n",
       "    .dataframe tbody tr th {\n",
       "        vertical-align: top;\n",
       "    }\n",
       "\n",
       "    .dataframe thead th {\n",
       "        text-align: right;\n",
       "    }\n",
       "</style>\n",
       "<table border=\"1\" class=\"dataframe\">\n",
       "  <thead>\n",
       "    <tr style=\"text-align: right;\">\n",
       "      <th></th>\n",
       "      <th>Open</th>\n",
       "      <th>High</th>\n",
       "      <th>Low</th>\n",
       "      <th>Close</th>\n",
       "      <th>Volume</th>\n",
       "      <th>Adj Close</th>\n",
       "    </tr>\n",
       "  </thead>\n",
       "  <tbody>\n",
       "    <tr>\n",
       "      <th>count</th>\n",
       "      <td>1692.000000</td>\n",
       "      <td>1692.000000</td>\n",
       "      <td>1692.000000</td>\n",
       "      <td>1692.000000</td>\n",
       "      <td>1.692000e+03</td>\n",
       "      <td>1692.000000</td>\n",
       "    </tr>\n",
       "    <tr>\n",
       "      <th>mean</th>\n",
       "      <td>132.441572</td>\n",
       "      <td>134.769698</td>\n",
       "      <td>129.996223</td>\n",
       "      <td>132.428658</td>\n",
       "      <td>4.270741e+06</td>\n",
       "      <td>132.428658</td>\n",
       "    </tr>\n",
       "    <tr>\n",
       "      <th>std</th>\n",
       "      <td>94.309923</td>\n",
       "      <td>95.694914</td>\n",
       "      <td>92.855227</td>\n",
       "      <td>94.313187</td>\n",
       "      <td>4.295971e+06</td>\n",
       "      <td>94.313187</td>\n",
       "    </tr>\n",
       "    <tr>\n",
       "      <th>min</th>\n",
       "      <td>16.139999</td>\n",
       "      <td>16.629999</td>\n",
       "      <td>14.980000</td>\n",
       "      <td>15.800000</td>\n",
       "      <td>1.185000e+05</td>\n",
       "      <td>15.800000</td>\n",
       "    </tr>\n",
       "    <tr>\n",
       "      <th>25%</th>\n",
       "      <td>30.000000</td>\n",
       "      <td>30.650000</td>\n",
       "      <td>29.215000</td>\n",
       "      <td>29.884999</td>\n",
       "      <td>1.194350e+06</td>\n",
       "      <td>29.884999</td>\n",
       "    </tr>\n",
       "    <tr>\n",
       "      <th>50%</th>\n",
       "      <td>156.334999</td>\n",
       "      <td>162.370002</td>\n",
       "      <td>153.150002</td>\n",
       "      <td>158.160004</td>\n",
       "      <td>3.180700e+06</td>\n",
       "      <td>158.160004</td>\n",
       "    </tr>\n",
       "    <tr>\n",
       "      <th>75%</th>\n",
       "      <td>220.557495</td>\n",
       "      <td>224.099999</td>\n",
       "      <td>217.119999</td>\n",
       "      <td>220.022503</td>\n",
       "      <td>5.662100e+06</td>\n",
       "      <td>220.022503</td>\n",
       "    </tr>\n",
       "    <tr>\n",
       "      <th>max</th>\n",
       "      <td>287.670013</td>\n",
       "      <td>291.420013</td>\n",
       "      <td>280.399994</td>\n",
       "      <td>286.040009</td>\n",
       "      <td>3.716390e+07</td>\n",
       "      <td>286.040009</td>\n",
       "    </tr>\n",
       "  </tbody>\n",
       "</table>\n",
       "</div>"
      ],
      "text/plain": [
       "              Open         High          Low        Close        Volume  \\\n",
       "count  1692.000000  1692.000000  1692.000000  1692.000000  1.692000e+03   \n",
       "mean    132.441572   134.769698   129.996223   132.428658  4.270741e+06   \n",
       "std      94.309923    95.694914    92.855227    94.313187  4.295971e+06   \n",
       "min      16.139999    16.629999    14.980000    15.800000  1.185000e+05   \n",
       "25%      30.000000    30.650000    29.215000    29.884999  1.194350e+06   \n",
       "50%     156.334999   162.370002   153.150002   158.160004  3.180700e+06   \n",
       "75%     220.557495   224.099999   217.119999   220.022503  5.662100e+06   \n",
       "max     287.670013   291.420013   280.399994   286.040009  3.716390e+07   \n",
       "\n",
       "         Adj Close  \n",
       "count  1692.000000  \n",
       "mean    132.428658  \n",
       "std      94.313187  \n",
       "min      15.800000  \n",
       "25%      29.884999  \n",
       "50%     158.160004  \n",
       "75%     220.022503  \n",
       "max     286.040009  "
      ]
     },
     "execution_count": 5,
     "metadata": {},
     "output_type": "execute_result"
    }
   ],
   "source": [
    "df.describe()"
   ]
  },
  {
   "cell_type": "code",
   "execution_count": 6,
   "id": "da69a233",
   "metadata": {
    "execution": {
     "iopub.execute_input": "2024-05-18T20:17:31.554828Z",
     "iopub.status.busy": "2024-05-18T20:17:31.553857Z",
     "iopub.status.idle": "2024-05-18T20:17:31.577031Z",
     "shell.execute_reply": "2024-05-18T20:17:31.575703Z"
    },
    "papermill": {
     "duration": 0.043898,
     "end_time": "2024-05-18T20:17:31.579828",
     "exception": false,
     "start_time": "2024-05-18T20:17:31.535930",
     "status": "completed"
    },
    "tags": []
   },
   "outputs": [
    {
     "name": "stdout",
     "output_type": "stream",
     "text": [
      "<class 'pandas.core.frame.DataFrame'>\n",
      "RangeIndex: 1692 entries, 0 to 1691\n",
      "Data columns (total 7 columns):\n",
      " #   Column     Non-Null Count  Dtype  \n",
      "---  ------     --------------  -----  \n",
      " 0   Date       1692 non-null   object \n",
      " 1   Open       1692 non-null   float64\n",
      " 2   High       1692 non-null   float64\n",
      " 3   Low        1692 non-null   float64\n",
      " 4   Close      1692 non-null   float64\n",
      " 5   Volume     1692 non-null   int64  \n",
      " 6   Adj Close  1692 non-null   float64\n",
      "dtypes: float64(5), int64(1), object(1)\n",
      "memory usage: 92.7+ KB\n"
     ]
    }
   ],
   "source": [
    "df.info()"
   ]
  },
  {
   "cell_type": "code",
   "execution_count": 7,
   "id": "d5568438",
   "metadata": {
    "execution": {
     "iopub.execute_input": "2024-05-18T20:17:31.615031Z",
     "iopub.status.busy": "2024-05-18T20:17:31.614652Z",
     "iopub.status.idle": "2024-05-18T20:17:31.957872Z",
     "shell.execute_reply": "2024-05-18T20:17:31.957053Z"
    },
    "papermill": {
     "duration": 0.363376,
     "end_time": "2024-05-18T20:17:31.960015",
     "exception": false,
     "start_time": "2024-05-18T20:17:31.596639",
     "status": "completed"
    },
    "tags": []
   },
   "outputs": [
    {
     "data": {
      "text/plain": [
       "<function matplotlib.pyplot.show(close=None, block=None)>"
      ]
     },
     "execution_count": 7,
     "metadata": {},
     "output_type": "execute_result"
    },
    {
     "data": {
      "image/png": "[encoded data removed]",
      "text/plain": [
       "<Figure size 1500x500 with 1 Axes>"
      ]
     },
     "metadata": {},
     "output_type": "display_data"
    }
   ],
   "source": [
    "plt.figure(figsize=(15,5))\n",
    "plt.plot(df['Close'])\n",
    "plt.show"
   ]
  },
  {
   "cell_type": "code",
   "execution_count": 8,
   "id": "0b0b68ea",
   "metadata": {
    "execution": {
     "iopub.execute_input": "2024-05-18T20:17:31.998268Z",
     "iopub.status.busy": "2024-05-18T20:17:31.997180Z",
     "iopub.status.idle": "2024-05-18T20:17:32.005637Z",
     "shell.execute_reply": "2024-05-18T20:17:32.004247Z"
    },
    "papermill": {
     "duration": 0.030157,
     "end_time": "2024-05-18T20:17:32.008026",
     "exception": false,
     "start_time": "2024-05-18T20:17:31.977869",
     "status": "completed"
    },
    "tags": []
   },
   "outputs": [
    {
     "data": {
      "text/plain": [
       "(1692, 7)"
      ]
     },
     "execution_count": 8,
     "metadata": {},
     "output_type": "execute_result"
    }
   ],
   "source": [
    "# lets check if all the value in Close == Adf_Close\n",
    "df[df['Close'] == df['Adj Close']].shape"
   ]
  },
  {
   "cell_type": "markdown",
   "id": "0f6b1733",
   "metadata": {
    "papermill": {
     "duration": 0.018412,
     "end_time": "2024-05-18T20:17:32.044532",
     "exception": false,
     "start_time": "2024-05-18T20:17:32.026120",
     "status": "completed"
    },
    "tags": []
   },
   "source": []
  },
  {
   "cell_type": "markdown",
   "id": "39739550",
   "metadata": {
    "papermill": {
     "duration": 0.017823,
     "end_time": "2024-05-18T20:17:32.080947",
     "exception": false,
     "start_time": "2024-05-18T20:17:32.063124",
     "status": "completed"
    },
    "tags": []
   },
   "source": []
  },
  {
   "cell_type": "code",
   "execution_count": 9,
   "id": "8b504152",
   "metadata": {
    "execution": {
     "iopub.execute_input": "2024-05-18T20:17:32.119315Z",
     "iopub.status.busy": "2024-05-18T20:17:32.118727Z",
     "iopub.status.idle": "2024-05-18T20:17:32.127895Z",
     "shell.execute_reply": "2024-05-18T20:17:32.126931Z"
    },
    "papermill": {
     "duration": 0.031195,
     "end_time": "2024-05-18T20:17:32.130051",
     "exception": false,
     "start_time": "2024-05-18T20:17:32.098856",
     "status": "completed"
    },
    "tags": []
   },
   "outputs": [],
   "source": [
    "df = df.drop(['Adj Close'],axis = 1)"
   ]
  },
  {
   "cell_type": "code",
   "execution_count": 10,
   "id": "626d24c8",
   "metadata": {
    "execution": {
     "iopub.execute_input": "2024-05-18T20:17:32.167953Z",
     "iopub.status.busy": "2024-05-18T20:17:32.167230Z",
     "iopub.status.idle": "2024-05-18T20:17:32.180656Z",
     "shell.execute_reply": "2024-05-18T20:17:32.179602Z"
    },
    "papermill": {
     "duration": 0.035189,
     "end_time": "2024-05-18T20:17:32.183122",
     "exception": false,
     "start_time": "2024-05-18T20:17:32.147933",
     "status": "completed"
    },
    "tags": []
   },
   "outputs": [
    {
     "data": {
      "text/html": [
       "<div>\n",
       "<style scoped>\n",
       "    .dataframe tbody tr th:only-of-type {\n",
       "        vertical-align: middle;\n",
       "    }\n",
       "\n",
       "    .dataframe tbody tr th {\n",
       "        vertical-align: top;\n",
       "    }\n",
       "\n",
       "    .dataframe thead th {\n",
       "        text-align: right;\n",
       "    }\n",
       "</style>\n",
       "<table border=\"1\" class=\"dataframe\">\n",
       "  <thead>\n",
       "    <tr style=\"text-align: right;\">\n",
       "      <th></th>\n",
       "      <th>Date</th>\n",
       "      <th>Open</th>\n",
       "      <th>High</th>\n",
       "      <th>Low</th>\n",
       "      <th>Close</th>\n",
       "      <th>Volume</th>\n",
       "    </tr>\n",
       "  </thead>\n",
       "  <tbody>\n",
       "    <tr>\n",
       "      <th>0</th>\n",
       "      <td>6/29/2010</td>\n",
       "      <td>19.000000</td>\n",
       "      <td>25.00</td>\n",
       "      <td>17.540001</td>\n",
       "      <td>23.889999</td>\n",
       "      <td>18766300</td>\n",
       "    </tr>\n",
       "    <tr>\n",
       "      <th>1</th>\n",
       "      <td>6/30/2010</td>\n",
       "      <td>25.790001</td>\n",
       "      <td>30.42</td>\n",
       "      <td>23.299999</td>\n",
       "      <td>23.830000</td>\n",
       "      <td>17187100</td>\n",
       "    </tr>\n",
       "    <tr>\n",
       "      <th>2</th>\n",
       "      <td>7/1/2010</td>\n",
       "      <td>25.000000</td>\n",
       "      <td>25.92</td>\n",
       "      <td>20.270000</td>\n",
       "      <td>21.959999</td>\n",
       "      <td>8218800</td>\n",
       "    </tr>\n",
       "    <tr>\n",
       "      <th>3</th>\n",
       "      <td>7/2/2010</td>\n",
       "      <td>23.000000</td>\n",
       "      <td>23.10</td>\n",
       "      <td>18.709999</td>\n",
       "      <td>19.200001</td>\n",
       "      <td>5139800</td>\n",
       "    </tr>\n",
       "    <tr>\n",
       "      <th>4</th>\n",
       "      <td>7/6/2010</td>\n",
       "      <td>20.000000</td>\n",
       "      <td>20.00</td>\n",
       "      <td>15.830000</td>\n",
       "      <td>16.110001</td>\n",
       "      <td>6866900</td>\n",
       "    </tr>\n",
       "  </tbody>\n",
       "</table>\n",
       "</div>"
      ],
      "text/plain": [
       "        Date       Open   High        Low      Close    Volume\n",
       "0  6/29/2010  19.000000  25.00  17.540001  23.889999  18766300\n",
       "1  6/30/2010  25.790001  30.42  23.299999  23.830000  17187100\n",
       "2   7/1/2010  25.000000  25.92  20.270000  21.959999   8218800\n",
       "3   7/2/2010  23.000000  23.10  18.709999  19.200001   5139800\n",
       "4   7/6/2010  20.000000  20.00  15.830000  16.110001   6866900"
      ]
     },
     "execution_count": 10,
     "metadata": {},
     "output_type": "execute_result"
    }
   ],
   "source": [
    "df.head()"
   ]
  },
  {
   "cell_type": "code",
   "execution_count": 11,
   "id": "895c49a5",
   "metadata": {
    "execution": {
     "iopub.execute_input": "2024-05-18T20:17:32.222583Z",
     "iopub.status.busy": "2024-05-18T20:17:32.222163Z",
     "iopub.status.idle": "2024-05-18T20:17:32.231690Z",
     "shell.execute_reply": "2024-05-18T20:17:32.230507Z"
    },
    "papermill": {
     "duration": 0.0327,
     "end_time": "2024-05-18T20:17:32.234057",
     "exception": false,
     "start_time": "2024-05-18T20:17:32.201357",
     "status": "completed"
    },
    "tags": []
   },
   "outputs": [
    {
     "data": {
      "text/plain": [
       "Date      0\n",
       "Open      0\n",
       "High      0\n",
       "Low       0\n",
       "Close     0\n",
       "Volume    0\n",
       "dtype: int64"
      ]
     },
     "execution_count": 11,
     "metadata": {},
     "output_type": "execute_result"
    }
   ],
   "source": [
    "df.isnull().sum()"
   ]
  },
  {
   "cell_type": "code",
   "execution_count": 12,
   "id": "87dcc90c",
   "metadata": {
    "execution": {
     "iopub.execute_input": "2024-05-18T20:17:32.272792Z",
     "iopub.status.busy": "2024-05-18T20:17:32.272396Z",
     "iopub.status.idle": "2024-05-18T20:17:32.279602Z",
     "shell.execute_reply": "2024-05-18T20:17:32.278537Z"
    },
    "papermill": {
     "duration": 0.029413,
     "end_time": "2024-05-18T20:17:32.281824",
     "exception": false,
     "start_time": "2024-05-18T20:17:32.252411",
     "status": "completed"
    },
    "tags": []
   },
   "outputs": [
    {
     "data": {
      "text/plain": [
       "Index(['Date', 'Open', 'High', 'Low', 'Close', 'Volume'], dtype='object')"
      ]
     },
     "execution_count": 12,
     "metadata": {},
     "output_type": "execute_result"
    }
   ],
   "source": [
    "# no null value\n",
    "df.columns\n"
   ]
  },
  {
   "cell_type": "code",
   "execution_count": 13,
   "id": "cbc65010",
   "metadata": {
    "execution": {
     "iopub.execute_input": "2024-05-18T20:17:32.320667Z",
     "iopub.status.busy": "2024-05-18T20:17:32.320116Z",
     "iopub.status.idle": "2024-05-18T20:17:33.966604Z",
     "shell.execute_reply": "2024-05-18T20:17:33.965670Z"
    },
    "papermill": {
     "duration": 1.670166,
     "end_time": "2024-05-18T20:17:33.970445",
     "exception": false,
     "start_time": "2024-05-18T20:17:32.300279",
     "status": "completed"
    },
    "tags": []
   },
   "outputs": [],
   "source": [
    "import seaborn as sb"
   ]
  },
  {
   "cell_type": "code",
   "execution_count": 14,
   "id": "65ee8be9",
   "metadata": {
    "execution": {
     "iopub.execute_input": "2024-05-18T20:17:34.015960Z",
     "iopub.status.busy": "2024-05-18T20:17:34.014759Z",
     "iopub.status.idle": "2024-05-18T20:17:34.883613Z",
     "shell.execute_reply": "2024-05-18T20:17:34.882222Z"
    },
    "papermill": {
     "duration": 0.893355,
     "end_time": "2024-05-18T20:17:34.886237",
     "exception": false,
     "start_time": "2024-05-18T20:17:33.992882",
     "status": "completed"
    },
    "tags": []
   },
   "outputs": [
    {
     "name": "stderr",
     "output_type": "stream",
     "text": [
      "/tmp/ipykernel_18/512157342.py:4: MatplotlibDeprecationWarning: Auto-removal of overlapping axes is deprecated since 3.6 and will be removed two minor releases later; explicitly call ax.remove() as needed.\n",
      "  plt.subplot(2,3,i+1)\n"
     ]
    },
    {
     "data": {
      "image/png": "[encoded data removed]",
      "text/plain": [
       "<Figure size 1500x600 with 5 Axes>"
      ]
     },
     "metadata": {},
     "output_type": "display_data"
    }
   ],
   "source": [
    "features = ['Open', 'High', 'Low', 'Close', 'Volume']\n",
    "plt.subplots(figsize=(15,6))\n",
    "for i, col in enumerate(features):\n",
    "    plt.subplot(2,3,i+1)\n",
    "    plt.hist(df[col])\n",
    "plt.show()"
   ]
  },
  {
   "cell_type": "code",
   "execution_count": 15,
   "id": "9a61cfe2",
   "metadata": {
    "execution": {
     "iopub.execute_input": "2024-05-18T20:17:34.927162Z",
     "iopub.status.busy": "2024-05-18T20:17:34.926772Z",
     "iopub.status.idle": "2024-05-18T20:17:36.576410Z",
     "shell.execute_reply": "2024-05-18T20:17:36.575091Z"
    },
    "papermill": {
     "duration": 1.673364,
     "end_time": "2024-05-18T20:17:36.579294",
     "exception": false,
     "start_time": "2024-05-18T20:17:34.905930",
     "status": "completed"
    },
    "tags": []
   },
   "outputs": [
    {
     "name": "stderr",
     "output_type": "stream",
     "text": [
      "/tmp/ipykernel_18/3833827021.py:3: MatplotlibDeprecationWarning: Auto-removal of overlapping axes is deprecated since 3.6 and will be removed two minor releases later; explicitly call ax.remove() as needed.\n",
      "  plt.subplot(2,3,i+1)\n",
      "/tmp/ipykernel_18/3833827021.py:4: UserWarning: \n",
      "\n",
      "`distplot` is a deprecated function and will be removed in seaborn v0.14.0.\n",
      "\n",
      "Please adapt your code to use either `displot` (a figure-level function with\n",
      "similar flexibility) or `histplot` (an axes-level function for histograms).\n",
      "\n",
      "For a guide to updating your code to use the new functions, please see\n",
      "https://gist.github.com/mwaskom/de44147ed2974457ad6372750bbe5751\n",
      "\n",
      "  sb.distplot(df[col])\n",
      "/opt/conda/lib/python3.10/site-packages/seaborn/_oldcore.py:1119: FutureWarning: use_inf_as_na option is deprecated and will be removed in a future version. Convert inf values to NaN before operating instead.\n",
      "  with pd.option_context('mode.use_inf_as_na', True):\n",
      "/tmp/ipykernel_18/3833827021.py:4: UserWarning: \n",
      "\n",
      "`distplot` is a deprecated function and will be removed in seaborn v0.14.0.\n",
      "\n",
      "Please adapt your code to use either `displot` (a figure-level function with\n",
      "similar flexibility) or `histplot` (an axes-level function for histograms).\n",
      "\n",
      "For a guide to updating your code to use the new functions, please see\n",
      "https://gist.github.com/mwaskom/de44147ed2974457ad6372750bbe5751\n",
      "\n",
      "  sb.distplot(df[col])\n",
      "/opt/conda/lib/python3.10/site-packages/seaborn/_oldcore.py:1119: FutureWarning: use_inf_as_na option is deprecated and will be removed in a future version. Convert inf values to NaN before operating instead.\n",
      "  with pd.option_context('mode.use_inf_as_na', True):\n",
      "/tmp/ipykernel_18/3833827021.py:4: UserWarning: \n",
      "\n",
      "`distplot` is a deprecated function and will be removed in seaborn v0.14.0.\n",
      "\n",
      "Please adapt your code to use either `displot` (a figure-level function with\n",
      "similar flexibility) or `histplot` (an axes-level function for histograms).\n",
      "\n",
      "For a guide to updating your code to use the new functions, please see\n",
      "https://gist.github.com/mwaskom/de44147ed2974457ad6372750bbe5751\n",
      "\n",
      "  sb.distplot(df[col])\n",
      "/opt/conda/lib/python3.10/site-packages/seaborn/_oldcore.py:1119: FutureWarning: use_inf_as_na option is deprecated and will be removed in a future version. Convert inf values to NaN before operating instead.\n",
      "  with pd.option_context('mode.use_inf_as_na', True):\n",
      "/tmp/ipykernel_18/3833827021.py:4: UserWarning: \n",
      "\n",
      "`distplot` is a deprecated function and will be removed in seaborn v0.14.0.\n",
      "\n",
      "Please adapt your code to use either `displot` (a figure-level function with\n",
      "similar flexibility) or `histplot` (an axes-level function for histograms).\n",
      "\n",
      "For a guide to updating your code to use the new functions, please see\n",
      "https://gist.github.com/mwaskom/de44147ed2974457ad6372750bbe5751\n",
      "\n",
      "  sb.distplot(df[col])\n",
      "/opt/conda/lib/python3.10/site-packages/seaborn/_oldcore.py:1119: FutureWarning: use_inf_as_na option is deprecated and will be removed in a future version. Convert inf values to NaN before operating instead.\n",
      "  with pd.option_context('mode.use_inf_as_na', True):\n",
      "/tmp/ipykernel_18/3833827021.py:4: UserWarning: \n",
      "\n",
      "`distplot` is a deprecated function and will be removed in seaborn v0.14.0.\n",
      "\n",
      "Please adapt your code to use either `displot` (a figure-level function with\n",
      "similar flexibility) or `histplot` (an axes-level function for histograms).\n",
      "\n",
      "For a guide to updating your code to use the new functions, please see\n",
      "https://gist.github.com/mwaskom/de44147ed2974457ad6372750bbe5751\n",
      "\n",
      "  sb.distplot(df[col])\n",
      "/opt/conda/lib/python3.10/site-packages/seaborn/_oldcore.py:1119: FutureWarning: use_inf_as_na option is deprecated and will be removed in a future version. Convert inf values to NaN before operating instead.\n",
      "  with pd.option_context('mode.use_inf_as_na', True):\n"
     ]
    },
    {
     "data": {
      "image/png": "[encoded data removed]",
      "text/plain": [
       "<Figure size 2500x1200 with 5 Axes>"
      ]
     },
     "metadata": {},
     "output_type": "display_data"
    }
   ],
   "source": [
    "plt.subplots(figsize=(25,12))\n",
    "for i, col in enumerate(features):\n",
    "    plt.subplot(2,3,i+1)\n",
    "    sb.distplot(df[col])\n",
    "plt.show()"
   ]
  },
  {
   "cell_type": "code",
   "execution_count": 16,
   "id": "06c667ca",
   "metadata": {
    "execution": {
     "iopub.execute_input": "2024-05-18T20:17:36.624630Z",
     "iopub.status.busy": "2024-05-18T20:17:36.624180Z",
     "iopub.status.idle": "2024-05-18T20:17:37.414396Z",
     "shell.execute_reply": "2024-05-18T20:17:37.413215Z"
    },
    "papermill": {
     "duration": 0.815697,
     "end_time": "2024-05-18T20:17:37.416875",
     "exception": false,
     "start_time": "2024-05-18T20:17:36.601178",
     "status": "completed"
    },
    "tags": []
   },
   "outputs": [
    {
     "name": "stderr",
     "output_type": "stream",
     "text": [
      "/tmp/ipykernel_18/2006237624.py:3: MatplotlibDeprecationWarning: Auto-removal of overlapping axes is deprecated since 3.6 and will be removed two minor releases later; explicitly call ax.remove() as needed.\n",
      "  plt.subplot(2,3,i+1)\n"
     ]
    },
    {
     "data": {
      "image/png": "[encoded data removed]",
      "text/plain": [
       "<Figure size 2500x1200 with 5 Axes>"
      ]
     },
     "metadata": {},
     "output_type": "display_data"
    }
   ],
   "source": [
    "plt.subplots(figsize=(25,12))\n",
    "for i, col in enumerate(features):\n",
    "    plt.subplot(2,3,i+1)\n",
    "    sb.boxplot(x=df[col])\n",
    "plt.show()"
   ]
  },
  {
   "cell_type": "code",
   "execution_count": 17,
   "id": "aa427a04",
   "metadata": {
    "execution": {
     "iopub.execute_input": "2024-05-18T20:17:37.467683Z",
     "iopub.status.busy": "2024-05-18T20:17:37.466146Z",
     "iopub.status.idle": "2024-05-18T20:17:37.476782Z",
     "shell.execute_reply": "2024-05-18T20:17:37.475854Z"
    },
    "papermill": {
     "duration": 0.039471,
     "end_time": "2024-05-18T20:17:37.479408",
     "exception": false,
     "start_time": "2024-05-18T20:17:37.439937",
     "status": "completed"
    },
    "tags": []
   },
   "outputs": [],
   "source": [
    "splitted = df['Date'].str.split('/',expand=True)"
   ]
  },
  {
   "cell_type": "code",
   "execution_count": 18,
   "id": "3aa052c4",
   "metadata": {
    "execution": {
     "iopub.execute_input": "2024-05-18T20:17:37.526621Z",
     "iopub.status.busy": "2024-05-18T20:17:37.525342Z",
     "iopub.status.idle": "2024-05-18T20:17:37.536151Z",
     "shell.execute_reply": "2024-05-18T20:17:37.535312Z"
    },
    "papermill": {
     "duration": 0.036678,
     "end_time": "2024-05-18T20:17:37.538351",
     "exception": false,
     "start_time": "2024-05-18T20:17:37.501673",
     "status": "completed"
    },
    "tags": []
   },
   "outputs": [
    {
     "data": {
      "text/html": [
       "<div>\n",
       "<style scoped>\n",
       "    .dataframe tbody tr th:only-of-type {\n",
       "        vertical-align: middle;\n",
       "    }\n",
       "\n",
       "    .dataframe tbody tr th {\n",
       "        vertical-align: top;\n",
       "    }\n",
       "\n",
       "    .dataframe thead th {\n",
       "        text-align: right;\n",
       "    }\n",
       "</style>\n",
       "<table border=\"1\" class=\"dataframe\">\n",
       "  <thead>\n",
       "    <tr style=\"text-align: right;\">\n",
       "      <th></th>\n",
       "      <th>0</th>\n",
       "      <th>1</th>\n",
       "      <th>2</th>\n",
       "    </tr>\n",
       "  </thead>\n",
       "  <tbody>\n",
       "    <tr>\n",
       "      <th>0</th>\n",
       "      <td>6</td>\n",
       "      <td>29</td>\n",
       "      <td>2010</td>\n",
       "    </tr>\n",
       "    <tr>\n",
       "      <th>1</th>\n",
       "      <td>6</td>\n",
       "      <td>30</td>\n",
       "      <td>2010</td>\n",
       "    </tr>\n",
       "    <tr>\n",
       "      <th>2</th>\n",
       "      <td>7</td>\n",
       "      <td>1</td>\n",
       "      <td>2010</td>\n",
       "    </tr>\n",
       "    <tr>\n",
       "      <th>3</th>\n",
       "      <td>7</td>\n",
       "      <td>2</td>\n",
       "      <td>2010</td>\n",
       "    </tr>\n",
       "    <tr>\n",
       "      <th>4</th>\n",
       "      <td>7</td>\n",
       "      <td>6</td>\n",
       "      <td>2010</td>\n",
       "    </tr>\n",
       "  </tbody>\n",
       "</table>\n",
       "</div>"
      ],
      "text/plain": [
       "   0   1     2\n",
       "0  6  29  2010\n",
       "1  6  30  2010\n",
       "2  7   1  2010\n",
       "3  7   2  2010\n",
       "4  7   6  2010"
      ]
     },
     "execution_count": 18,
     "metadata": {},
     "output_type": "execute_result"
    }
   ],
   "source": [
    "splitted.head()"
   ]
  },
  {
   "cell_type": "code",
   "execution_count": 19,
   "id": "3d27e9cf",
   "metadata": {
    "execution": {
     "iopub.execute_input": "2024-05-18T20:17:37.585985Z",
     "iopub.status.busy": "2024-05-18T20:17:37.585613Z",
     "iopub.status.idle": "2024-05-18T20:17:37.591133Z",
     "shell.execute_reply": "2024-05-18T20:17:37.590274Z"
    },
    "papermill": {
     "duration": 0.031711,
     "end_time": "2024-05-18T20:17:37.593174",
     "exception": false,
     "start_time": "2024-05-18T20:17:37.561463",
     "status": "completed"
    },
    "tags": []
   },
   "outputs": [],
   "source": [
    "df['day'] = splitted[1].astype('int')"
   ]
  },
  {
   "cell_type": "code",
   "execution_count": 20,
   "id": "bc14fcca",
   "metadata": {
    "execution": {
     "iopub.execute_input": "2024-05-18T20:17:37.701431Z",
     "iopub.status.busy": "2024-05-18T20:17:37.701030Z",
     "iopub.status.idle": "2024-05-18T20:17:37.715111Z",
     "shell.execute_reply": "2024-05-18T20:17:37.714176Z"
    },
    "papermill": {
     "duration": 0.101409,
     "end_time": "2024-05-18T20:17:37.717407",
     "exception": false,
     "start_time": "2024-05-18T20:17:37.615998",
     "status": "completed"
    },
    "tags": []
   },
   "outputs": [
    {
     "data": {
      "text/html": [
       "<div>\n",
       "<style scoped>\n",
       "    .dataframe tbody tr th:only-of-type {\n",
       "        vertical-align: middle;\n",
       "    }\n",
       "\n",
       "    .dataframe tbody tr th {\n",
       "        vertical-align: top;\n",
       "    }\n",
       "\n",
       "    .dataframe thead th {\n",
       "        text-align: right;\n",
       "    }\n",
       "</style>\n",
       "<table border=\"1\" class=\"dataframe\">\n",
       "  <thead>\n",
       "    <tr style=\"text-align: right;\">\n",
       "      <th></th>\n",
       "      <th>Date</th>\n",
       "      <th>Open</th>\n",
       "      <th>High</th>\n",
       "      <th>Low</th>\n",
       "      <th>Close</th>\n",
       "      <th>Volume</th>\n",
       "      <th>day</th>\n",
       "    </tr>\n",
       "  </thead>\n",
       "  <tbody>\n",
       "    <tr>\n",
       "      <th>0</th>\n",
       "      <td>6/29/2010</td>\n",
       "      <td>19.000000</td>\n",
       "      <td>25.00</td>\n",
       "      <td>17.540001</td>\n",
       "      <td>23.889999</td>\n",
       "      <td>18766300</td>\n",
       "      <td>29</td>\n",
       "    </tr>\n",
       "    <tr>\n",
       "      <th>1</th>\n",
       "      <td>6/30/2010</td>\n",
       "      <td>25.790001</td>\n",
       "      <td>30.42</td>\n",
       "      <td>23.299999</td>\n",
       "      <td>23.830000</td>\n",
       "      <td>17187100</td>\n",
       "      <td>30</td>\n",
       "    </tr>\n",
       "    <tr>\n",
       "      <th>2</th>\n",
       "      <td>7/1/2010</td>\n",
       "      <td>25.000000</td>\n",
       "      <td>25.92</td>\n",
       "      <td>20.270000</td>\n",
       "      <td>21.959999</td>\n",
       "      <td>8218800</td>\n",
       "      <td>1</td>\n",
       "    </tr>\n",
       "    <tr>\n",
       "      <th>3</th>\n",
       "      <td>7/2/2010</td>\n",
       "      <td>23.000000</td>\n",
       "      <td>23.10</td>\n",
       "      <td>18.709999</td>\n",
       "      <td>19.200001</td>\n",
       "      <td>5139800</td>\n",
       "      <td>2</td>\n",
       "    </tr>\n",
       "    <tr>\n",
       "      <th>4</th>\n",
       "      <td>7/6/2010</td>\n",
       "      <td>20.000000</td>\n",
       "      <td>20.00</td>\n",
       "      <td>15.830000</td>\n",
       "      <td>16.110001</td>\n",
       "      <td>6866900</td>\n",
       "      <td>6</td>\n",
       "    </tr>\n",
       "  </tbody>\n",
       "</table>\n",
       "</div>"
      ],
      "text/plain": [
       "        Date       Open   High        Low      Close    Volume  day\n",
       "0  6/29/2010  19.000000  25.00  17.540001  23.889999  18766300   29\n",
       "1  6/30/2010  25.790001  30.42  23.299999  23.830000  17187100   30\n",
       "2   7/1/2010  25.000000  25.92  20.270000  21.959999   8218800    1\n",
       "3   7/2/2010  23.000000  23.10  18.709999  19.200001   5139800    2\n",
       "4   7/6/2010  20.000000  20.00  15.830000  16.110001   6866900    6"
      ]
     },
     "execution_count": 20,
     "metadata": {},
     "output_type": "execute_result"
    }
   ],
   "source": [
    "df.head()"
   ]
  },
  {
   "cell_type": "code",
   "execution_count": 21,
   "id": "27d43528",
   "metadata": {
    "execution": {
     "iopub.execute_input": "2024-05-18T20:17:37.765267Z",
     "iopub.status.busy": "2024-05-18T20:17:37.764516Z",
     "iopub.status.idle": "2024-05-18T20:17:37.770403Z",
     "shell.execute_reply": "2024-05-18T20:17:37.769446Z"
    },
    "papermill": {
     "duration": 0.032424,
     "end_time": "2024-05-18T20:17:37.772969",
     "exception": false,
     "start_time": "2024-05-18T20:17:37.740545",
     "status": "completed"
    },
    "tags": []
   },
   "outputs": [],
   "source": [
    "df['month'] = splitted[0].astype('int')"
   ]
  },
  {
   "cell_type": "code",
   "execution_count": 22,
   "id": "94588006",
   "metadata": {
    "execution": {
     "iopub.execute_input": "2024-05-18T20:17:37.821544Z",
     "iopub.status.busy": "2024-05-18T20:17:37.821104Z",
     "iopub.status.idle": "2024-05-18T20:17:37.827643Z",
     "shell.execute_reply": "2024-05-18T20:17:37.826510Z"
    },
    "papermill": {
     "duration": 0.033057,
     "end_time": "2024-05-18T20:17:37.830040",
     "exception": false,
     "start_time": "2024-05-18T20:17:37.796983",
     "status": "completed"
    },
    "tags": []
   },
   "outputs": [],
   "source": [
    "df['year'] = splitted[2].astype('int')"
   ]
  },
  {
   "cell_type": "code",
   "execution_count": 23,
   "id": "1c512edc",
   "metadata": {
    "execution": {
     "iopub.execute_input": "2024-05-18T20:17:37.877517Z",
     "iopub.status.busy": "2024-05-18T20:17:37.876796Z",
     "iopub.status.idle": "2024-05-18T20:17:37.892407Z",
     "shell.execute_reply": "2024-05-18T20:17:37.891264Z"
    },
    "papermill": {
     "duration": 0.042318,
     "end_time": "2024-05-18T20:17:37.895092",
     "exception": false,
     "start_time": "2024-05-18T20:17:37.852774",
     "status": "completed"
    },
    "tags": []
   },
   "outputs": [
    {
     "data": {
      "text/html": [
       "<div>\n",
       "<style scoped>\n",
       "    .dataframe tbody tr th:only-of-type {\n",
       "        vertical-align: middle;\n",
       "    }\n",
       "\n",
       "    .dataframe tbody tr th {\n",
       "        vertical-align: top;\n",
       "    }\n",
       "\n",
       "    .dataframe thead th {\n",
       "        text-align: right;\n",
       "    }\n",
       "</style>\n",
       "<table border=\"1\" class=\"dataframe\">\n",
       "  <thead>\n",
       "    <tr style=\"text-align: right;\">\n",
       "      <th></th>\n",
       "      <th>Date</th>\n",
       "      <th>Open</th>\n",
       "      <th>High</th>\n",
       "      <th>Low</th>\n",
       "      <th>Close</th>\n",
       "      <th>Volume</th>\n",
       "      <th>day</th>\n",
       "      <th>month</th>\n",
       "      <th>year</th>\n",
       "    </tr>\n",
       "  </thead>\n",
       "  <tbody>\n",
       "    <tr>\n",
       "      <th>0</th>\n",
       "      <td>6/29/2010</td>\n",
       "      <td>19.000000</td>\n",
       "      <td>25.00</td>\n",
       "      <td>17.540001</td>\n",
       "      <td>23.889999</td>\n",
       "      <td>18766300</td>\n",
       "      <td>29</td>\n",
       "      <td>6</td>\n",
       "      <td>2010</td>\n",
       "    </tr>\n",
       "    <tr>\n",
       "      <th>1</th>\n",
       "      <td>6/30/2010</td>\n",
       "      <td>25.790001</td>\n",
       "      <td>30.42</td>\n",
       "      <td>23.299999</td>\n",
       "      <td>23.830000</td>\n",
       "      <td>17187100</td>\n",
       "      <td>30</td>\n",
       "      <td>6</td>\n",
       "      <td>2010</td>\n",
       "    </tr>\n",
       "    <tr>\n",
       "      <th>2</th>\n",
       "      <td>7/1/2010</td>\n",
       "      <td>25.000000</td>\n",
       "      <td>25.92</td>\n",
       "      <td>20.270000</td>\n",
       "      <td>21.959999</td>\n",
       "      <td>8218800</td>\n",
       "      <td>1</td>\n",
       "      <td>7</td>\n",
       "      <td>2010</td>\n",
       "    </tr>\n",
       "    <tr>\n",
       "      <th>3</th>\n",
       "      <td>7/2/2010</td>\n",
       "      <td>23.000000</td>\n",
       "      <td>23.10</td>\n",
       "      <td>18.709999</td>\n",
       "      <td>19.200001</td>\n",
       "      <td>5139800</td>\n",
       "      <td>2</td>\n",
       "      <td>7</td>\n",
       "      <td>2010</td>\n",
       "    </tr>\n",
       "    <tr>\n",
       "      <th>4</th>\n",
       "      <td>7/6/2010</td>\n",
       "      <td>20.000000</td>\n",
       "      <td>20.00</td>\n",
       "      <td>15.830000</td>\n",
       "      <td>16.110001</td>\n",
       "      <td>6866900</td>\n",
       "      <td>6</td>\n",
       "      <td>7</td>\n",
       "      <td>2010</td>\n",
       "    </tr>\n",
       "  </tbody>\n",
       "</table>\n",
       "</div>"
      ],
      "text/plain": [
       "        Date       Open   High        Low      Close    Volume  day  month  \\\n",
       "0  6/29/2010  19.000000  25.00  17.540001  23.889999  18766300   29      6   \n",
       "1  6/30/2010  25.790001  30.42  23.299999  23.830000  17187100   30      6   \n",
       "2   7/1/2010  25.000000  25.92  20.270000  21.959999   8218800    1      7   \n",
       "3   7/2/2010  23.000000  23.10  18.709999  19.200001   5139800    2      7   \n",
       "4   7/6/2010  20.000000  20.00  15.830000  16.110001   6866900    6      7   \n",
       "\n",
       "   year  \n",
       "0  2010  \n",
       "1  2010  \n",
       "2  2010  \n",
       "3  2010  \n",
       "4  2010  "
      ]
     },
     "execution_count": 23,
     "metadata": {},
     "output_type": "execute_result"
    }
   ],
   "source": [
    "df.head()"
   ]
  },
  {
   "cell_type": "code",
   "execution_count": 24,
   "id": "cb515043",
   "metadata": {
    "execution": {
     "iopub.execute_input": "2024-05-18T20:17:37.944542Z",
     "iopub.status.busy": "2024-05-18T20:17:37.942796Z",
     "iopub.status.idle": "2024-05-18T20:17:37.950137Z",
     "shell.execute_reply": "2024-05-18T20:17:37.949292Z"
    },
    "papermill": {
     "duration": 0.034383,
     "end_time": "2024-05-18T20:17:37.952630",
     "exception": false,
     "start_time": "2024-05-18T20:17:37.918247",
     "status": "completed"
    },
    "tags": []
   },
   "outputs": [],
   "source": [
    "df['is_quarter_end'] = np.where(df['month']%3 == 0,1,0)"
   ]
  },
  {
   "cell_type": "code",
   "execution_count": 25,
   "id": "07e249a0",
   "metadata": {
    "execution": {
     "iopub.execute_input": "2024-05-18T20:17:38.002444Z",
     "iopub.status.busy": "2024-05-18T20:17:38.001605Z",
     "iopub.status.idle": "2024-05-18T20:17:38.017768Z",
     "shell.execute_reply": "2024-05-18T20:17:38.016612Z"
    },
    "papermill": {
     "duration": 0.044374,
     "end_time": "2024-05-18T20:17:38.020270",
     "exception": false,
     "start_time": "2024-05-18T20:17:37.975896",
     "status": "completed"
    },
    "tags": []
   },
   "outputs": [
    {
     "data": {
      "text/html": [
       "<div>\n",
       "<style scoped>\n",
       "    .dataframe tbody tr th:only-of-type {\n",
       "        vertical-align: middle;\n",
       "    }\n",
       "\n",
       "    .dataframe tbody tr th {\n",
       "        vertical-align: top;\n",
       "    }\n",
       "\n",
       "    .dataframe thead th {\n",
       "        text-align: right;\n",
       "    }\n",
       "</style>\n",
       "<table border=\"1\" class=\"dataframe\">\n",
       "  <thead>\n",
       "    <tr style=\"text-align: right;\">\n",
       "      <th></th>\n",
       "      <th>Date</th>\n",
       "      <th>Open</th>\n",
       "      <th>High</th>\n",
       "      <th>Low</th>\n",
       "      <th>Close</th>\n",
       "      <th>Volume</th>\n",
       "      <th>day</th>\n",
       "      <th>month</th>\n",
       "      <th>year</th>\n",
       "      <th>is_quarter_end</th>\n",
       "    </tr>\n",
       "  </thead>\n",
       "  <tbody>\n",
       "    <tr>\n",
       "      <th>0</th>\n",
       "      <td>6/29/2010</td>\n",
       "      <td>19.000000</td>\n",
       "      <td>25.00</td>\n",
       "      <td>17.540001</td>\n",
       "      <td>23.889999</td>\n",
       "      <td>18766300</td>\n",
       "      <td>29</td>\n",
       "      <td>6</td>\n",
       "      <td>2010</td>\n",
       "      <td>1</td>\n",
       "    </tr>\n",
       "    <tr>\n",
       "      <th>1</th>\n",
       "      <td>6/30/2010</td>\n",
       "      <td>25.790001</td>\n",
       "      <td>30.42</td>\n",
       "      <td>23.299999</td>\n",
       "      <td>23.830000</td>\n",
       "      <td>17187100</td>\n",
       "      <td>30</td>\n",
       "      <td>6</td>\n",
       "      <td>2010</td>\n",
       "      <td>1</td>\n",
       "    </tr>\n",
       "    <tr>\n",
       "      <th>2</th>\n",
       "      <td>7/1/2010</td>\n",
       "      <td>25.000000</td>\n",
       "      <td>25.92</td>\n",
       "      <td>20.270000</td>\n",
       "      <td>21.959999</td>\n",
       "      <td>8218800</td>\n",
       "      <td>1</td>\n",
       "      <td>7</td>\n",
       "      <td>2010</td>\n",
       "      <td>0</td>\n",
       "    </tr>\n",
       "    <tr>\n",
       "      <th>3</th>\n",
       "      <td>7/2/2010</td>\n",
       "      <td>23.000000</td>\n",
       "      <td>23.10</td>\n",
       "      <td>18.709999</td>\n",
       "      <td>19.200001</td>\n",
       "      <td>5139800</td>\n",
       "      <td>2</td>\n",
       "      <td>7</td>\n",
       "      <td>2010</td>\n",
       "      <td>0</td>\n",
       "    </tr>\n",
       "    <tr>\n",
       "      <th>4</th>\n",
       "      <td>7/6/2010</td>\n",
       "      <td>20.000000</td>\n",
       "      <td>20.00</td>\n",
       "      <td>15.830000</td>\n",
       "      <td>16.110001</td>\n",
       "      <td>6866900</td>\n",
       "      <td>6</td>\n",
       "      <td>7</td>\n",
       "      <td>2010</td>\n",
       "      <td>0</td>\n",
       "    </tr>\n",
       "  </tbody>\n",
       "</table>\n",
       "</div>"
      ],
      "text/plain": [
       "        Date       Open   High        Low      Close    Volume  day  month  \\\n",
       "0  6/29/2010  19.000000  25.00  17.540001  23.889999  18766300   29      6   \n",
       "1  6/30/2010  25.790001  30.42  23.299999  23.830000  17187100   30      6   \n",
       "2   7/1/2010  25.000000  25.92  20.270000  21.959999   8218800    1      7   \n",
       "3   7/2/2010  23.000000  23.10  18.709999  19.200001   5139800    2      7   \n",
       "4   7/6/2010  20.000000  20.00  15.830000  16.110001   6866900    6      7   \n",
       "\n",
       "   year  is_quarter_end  \n",
       "0  2010               1  \n",
       "1  2010               1  \n",
       "2  2010               0  \n",
       "3  2010               0  \n",
       "4  2010               0  "
      ]
     },
     "execution_count": 25,
     "metadata": {},
     "output_type": "execute_result"
    }
   ],
   "source": [
    "df.head()"
   ]
  },
  {
   "cell_type": "code",
   "execution_count": 26,
   "id": "e28b93b5",
   "metadata": {
    "execution": {
     "iopub.execute_input": "2024-05-18T20:17:38.071305Z",
     "iopub.status.busy": "2024-05-18T20:17:38.070434Z",
     "iopub.status.idle": "2024-05-18T20:17:38.083732Z",
     "shell.execute_reply": "2024-05-18T20:17:38.082429Z"
    },
    "papermill": {
     "duration": 0.041555,
     "end_time": "2024-05-18T20:17:38.086441",
     "exception": false,
     "start_time": "2024-05-18T20:17:38.044886",
     "status": "completed"
    },
    "tags": []
   },
   "outputs": [
    {
     "name": "stdout",
     "output_type": "stream",
     "text": [
      "<class 'pandas.core.frame.DataFrame'>\n",
      "RangeIndex: 1692 entries, 0 to 1691\n",
      "Data columns (total 10 columns):\n",
      " #   Column          Non-Null Count  Dtype  \n",
      "---  ------          --------------  -----  \n",
      " 0   Date            1692 non-null   object \n",
      " 1   Open            1692 non-null   float64\n",
      " 2   High            1692 non-null   float64\n",
      " 3   Low             1692 non-null   float64\n",
      " 4   Close           1692 non-null   float64\n",
      " 5   Volume          1692 non-null   int64  \n",
      " 6   day             1692 non-null   int64  \n",
      " 7   month           1692 non-null   int64  \n",
      " 8   year            1692 non-null   int64  \n",
      " 9   is_quarter_end  1692 non-null   int64  \n",
      "dtypes: float64(4), int64(5), object(1)\n",
      "memory usage: 132.3+ KB\n"
     ]
    }
   ],
   "source": [
    "df.info()"
   ]
  },
  {
   "cell_type": "code",
   "execution_count": 27,
   "id": "ea434428",
   "metadata": {
    "execution": {
     "iopub.execute_input": "2024-05-18T20:17:38.137054Z",
     "iopub.status.busy": "2024-05-18T20:17:38.135969Z",
     "iopub.status.idle": "2024-05-18T20:17:38.142006Z",
     "shell.execute_reply": "2024-05-18T20:17:38.141158Z"
    },
    "papermill": {
     "duration": 0.033488,
     "end_time": "2024-05-18T20:17:38.144616",
     "exception": false,
     "start_time": "2024-05-18T20:17:38.111128",
     "status": "completed"
    },
    "tags": []
   },
   "outputs": [],
   "source": [
    "df.drop('Date',axis=1,inplace=True)"
   ]
  },
  {
   "cell_type": "code",
   "execution_count": 28,
   "id": "39edd58e",
   "metadata": {
    "execution": {
     "iopub.execute_input": "2024-05-18T20:17:38.193760Z",
     "iopub.status.busy": "2024-05-18T20:17:38.192673Z",
     "iopub.status.idle": "2024-05-18T20:17:38.201441Z",
     "shell.execute_reply": "2024-05-18T20:17:38.200517Z"
    },
    "papermill": {
     "duration": 0.035844,
     "end_time": "2024-05-18T20:17:38.203838",
     "exception": false,
     "start_time": "2024-05-18T20:17:38.167994",
     "status": "completed"
    },
    "tags": []
   },
   "outputs": [],
   "source": [
    "grouped = df.groupby('year').mean()"
   ]
  },
  {
   "cell_type": "code",
   "execution_count": 29,
   "id": "38565325",
   "metadata": {
    "execution": {
     "iopub.execute_input": "2024-05-18T20:17:38.253573Z",
     "iopub.status.busy": "2024-05-18T20:17:38.253169Z",
     "iopub.status.idle": "2024-05-18T20:17:38.269408Z",
     "shell.execute_reply": "2024-05-18T20:17:38.268231Z"
    },
    "papermill": {
     "duration": 0.043542,
     "end_time": "2024-05-18T20:17:38.271639",
     "exception": false,
     "start_time": "2024-05-18T20:17:38.228097",
     "status": "completed"
    },
    "tags": []
   },
   "outputs": [
    {
     "data": {
      "text/html": [
       "<div>\n",
       "<style scoped>\n",
       "    .dataframe tbody tr th:only-of-type {\n",
       "        vertical-align: middle;\n",
       "    }\n",
       "\n",
       "    .dataframe tbody tr th {\n",
       "        vertical-align: top;\n",
       "    }\n",
       "\n",
       "    .dataframe thead th {\n",
       "        text-align: right;\n",
       "    }\n",
       "</style>\n",
       "<table border=\"1\" class=\"dataframe\">\n",
       "  <thead>\n",
       "    <tr style=\"text-align: right;\">\n",
       "      <th></th>\n",
       "      <th>Open</th>\n",
       "      <th>High</th>\n",
       "      <th>Low</th>\n",
       "      <th>Close</th>\n",
       "      <th>Volume</th>\n",
       "      <th>day</th>\n",
       "      <th>month</th>\n",
       "      <th>is_quarter_end</th>\n",
       "    </tr>\n",
       "    <tr>\n",
       "      <th>year</th>\n",
       "      <th></th>\n",
       "      <th></th>\n",
       "      <th></th>\n",
       "      <th></th>\n",
       "      <th></th>\n",
       "      <th></th>\n",
       "      <th></th>\n",
       "      <th></th>\n",
       "    </tr>\n",
       "  </thead>\n",
       "  <tbody>\n",
       "    <tr>\n",
       "      <th>2010</th>\n",
       "      <td>23.408000</td>\n",
       "      <td>24.077231</td>\n",
       "      <td>22.646077</td>\n",
       "      <td>23.341846</td>\n",
       "      <td>1.579762e+06</td>\n",
       "      <td>16.030769</td>\n",
       "      <td>9.453846</td>\n",
       "      <td>0.346154</td>\n",
       "    </tr>\n",
       "    <tr>\n",
       "      <th>2011</th>\n",
       "      <td>26.821984</td>\n",
       "      <td>27.380238</td>\n",
       "      <td>26.194167</td>\n",
       "      <td>26.804762</td>\n",
       "      <td>1.290615e+06</td>\n",
       "      <td>15.634921</td>\n",
       "      <td>6.547619</td>\n",
       "      <td>0.345238</td>\n",
       "    </tr>\n",
       "    <tr>\n",
       "      <th>2012</th>\n",
       "      <td>31.203120</td>\n",
       "      <td>31.809160</td>\n",
       "      <td>30.545880</td>\n",
       "      <td>31.168600</td>\n",
       "      <td>1.229796e+06</td>\n",
       "      <td>15.776000</td>\n",
       "      <td>6.500000</td>\n",
       "      <td>0.328000</td>\n",
       "    </tr>\n",
       "    <tr>\n",
       "      <th>2013</th>\n",
       "      <td>104.416428</td>\n",
       "      <td>106.853016</td>\n",
       "      <td>101.779881</td>\n",
       "      <td>104.401230</td>\n",
       "      <td>8.407722e+06</td>\n",
       "      <td>15.650794</td>\n",
       "      <td>6.543651</td>\n",
       "      <td>0.321429</td>\n",
       "    </tr>\n",
       "    <tr>\n",
       "      <th>2014</th>\n",
       "      <td>223.415397</td>\n",
       "      <td>227.449881</td>\n",
       "      <td>219.206111</td>\n",
       "      <td>223.329088</td>\n",
       "      <td>6.913973e+06</td>\n",
       "      <td>15.761905</td>\n",
       "      <td>6.551587</td>\n",
       "      <td>0.337302</td>\n",
       "    </tr>\n",
       "  </tbody>\n",
       "</table>\n",
       "</div>"
      ],
      "text/plain": [
       "            Open        High         Low       Close        Volume        day  \\\n",
       "year                                                                            \n",
       "2010   23.408000   24.077231   22.646077   23.341846  1.579762e+06  16.030769   \n",
       "2011   26.821984   27.380238   26.194167   26.804762  1.290615e+06  15.634921   \n",
       "2012   31.203120   31.809160   30.545880   31.168600  1.229796e+06  15.776000   \n",
       "2013  104.416428  106.853016  101.779881  104.401230  8.407722e+06  15.650794   \n",
       "2014  223.415397  227.449881  219.206111  223.329088  6.913973e+06  15.761905   \n",
       "\n",
       "         month  is_quarter_end  \n",
       "year                            \n",
       "2010  9.453846        0.346154  \n",
       "2011  6.547619        0.345238  \n",
       "2012  6.500000        0.328000  \n",
       "2013  6.543651        0.321429  \n",
       "2014  6.551587        0.337302  "
      ]
     },
     "execution_count": 29,
     "metadata": {},
     "output_type": "execute_result"
    }
   ],
   "source": [
    "grouped.head()"
   ]
  },
  {
   "cell_type": "markdown",
   "id": "38665ebb",
   "metadata": {
    "papermill": {
     "duration": 0.023302,
     "end_time": "2024-05-18T20:17:38.319712",
     "exception": false,
     "start_time": "2024-05-18T20:17:38.296410",
     "status": "completed"
    },
    "tags": []
   },
   "source": [
    "\n",
    "    "
   ]
  },
  {
   "cell_type": "code",
   "execution_count": 30,
   "id": "5fb52b75",
   "metadata": {
    "execution": {
     "iopub.execute_input": "2024-05-18T20:17:38.369763Z",
     "iopub.status.busy": "2024-05-18T20:17:38.368883Z",
     "iopub.status.idle": "2024-05-18T20:17:39.495588Z",
     "shell.execute_reply": "2024-05-18T20:17:39.494292Z"
    },
    "papermill": {
     "duration": 1.155115,
     "end_time": "2024-05-18T20:17:39.498492",
     "exception": false,
     "start_time": "2024-05-18T20:17:38.343377",
     "status": "completed"
    },
    "tags": []
   },
   "outputs": [
    {
     "name": "stderr",
     "output_type": "stream",
     "text": [
      "/tmp/ipykernel_18/1297627116.py:3: MatplotlibDeprecationWarning: Auto-removal of overlapping axes is deprecated since 3.6 and will be removed two minor releases later; explicitly call ax.remove() as needed.\n",
      "  plt.subplot(2,3,i+1)\n"
     ]
    },
    {
     "data": {
      "image/png": "[encoded data removed]",
      "text/plain": [
       "<Figure size 2000x1000 with 5 Axes>"
      ]
     },
     "metadata": {},
     "output_type": "display_data"
    }
   ],
   "source": [
    "plt.subplots(figsize=(20,10))\n",
    "for i,col in enumerate(features):\n",
    "    plt.subplot(2,3,i+1)\n",
    "    grouped[col].plot.bar()\n",
    "plt.show()"
   ]
  },
  {
   "cell_type": "code",
   "execution_count": 31,
   "id": "2b49eef5",
   "metadata": {
    "execution": {
     "iopub.execute_input": "2024-05-18T20:17:39.550424Z",
     "iopub.status.busy": "2024-05-18T20:17:39.549736Z",
     "iopub.status.idle": "2024-05-18T20:17:39.567452Z",
     "shell.execute_reply": "2024-05-18T20:17:39.566347Z"
    },
    "papermill": {
     "duration": 0.047168,
     "end_time": "2024-05-18T20:17:39.570269",
     "exception": false,
     "start_time": "2024-05-18T20:17:39.523101",
     "status": "completed"
    },
    "tags": []
   },
   "outputs": [
    {
     "data": {
      "text/html": [
       "<div>\n",
       "<style scoped>\n",
       "    .dataframe tbody tr th:only-of-type {\n",
       "        vertical-align: middle;\n",
       "    }\n",
       "\n",
       "    .dataframe tbody tr th {\n",
       "        vertical-align: top;\n",
       "    }\n",
       "\n",
       "    .dataframe thead th {\n",
       "        text-align: right;\n",
       "    }\n",
       "</style>\n",
       "<table border=\"1\" class=\"dataframe\">\n",
       "  <thead>\n",
       "    <tr style=\"text-align: right;\">\n",
       "      <th></th>\n",
       "      <th>Open</th>\n",
       "      <th>High</th>\n",
       "      <th>Low</th>\n",
       "      <th>Close</th>\n",
       "      <th>Volume</th>\n",
       "      <th>day</th>\n",
       "      <th>month</th>\n",
       "      <th>year</th>\n",
       "    </tr>\n",
       "    <tr>\n",
       "      <th>is_quarter_end</th>\n",
       "      <th></th>\n",
       "      <th></th>\n",
       "      <th></th>\n",
       "      <th></th>\n",
       "      <th></th>\n",
       "      <th></th>\n",
       "      <th></th>\n",
       "      <th></th>\n",
       "    </tr>\n",
       "  </thead>\n",
       "  <tbody>\n",
       "    <tr>\n",
       "      <th>0</th>\n",
       "      <td>130.813739</td>\n",
       "      <td>133.182620</td>\n",
       "      <td>128.257229</td>\n",
       "      <td>130.797709</td>\n",
       "      <td>4.461581e+06</td>\n",
       "      <td>15.686501</td>\n",
       "      <td>6.141208</td>\n",
       "      <td>2013.353464</td>\n",
       "    </tr>\n",
       "    <tr>\n",
       "      <th>1</th>\n",
       "      <td>135.679982</td>\n",
       "      <td>137.927032</td>\n",
       "      <td>133.455777</td>\n",
       "      <td>135.673269</td>\n",
       "      <td>3.891084e+06</td>\n",
       "      <td>15.657244</td>\n",
       "      <td>7.584806</td>\n",
       "      <td>2013.314488</td>\n",
       "    </tr>\n",
       "  </tbody>\n",
       "</table>\n",
       "</div>"
      ],
      "text/plain": [
       "                      Open        High         Low       Close        Volume  \\\n",
       "is_quarter_end                                                                 \n",
       "0               130.813739  133.182620  128.257229  130.797709  4.461581e+06   \n",
       "1               135.679982  137.927032  133.455777  135.673269  3.891084e+06   \n",
       "\n",
       "                      day     month         year  \n",
       "is_quarter_end                                    \n",
       "0               15.686501  6.141208  2013.353464  \n",
       "1               15.657244  7.584806  2013.314488  "
      ]
     },
     "execution_count": 31,
     "metadata": {},
     "output_type": "execute_result"
    }
   ],
   "source": [
    "df.groupby('is_quarter_end').mean()"
   ]
  },
  {
   "cell_type": "code",
   "execution_count": 32,
   "id": "019a3a3d",
   "metadata": {
    "execution": {
     "iopub.execute_input": "2024-05-18T20:17:39.622601Z",
     "iopub.status.busy": "2024-05-18T20:17:39.621942Z",
     "iopub.status.idle": "2024-05-18T20:17:39.628364Z",
     "shell.execute_reply": "2024-05-18T20:17:39.627040Z"
    },
    "papermill": {
     "duration": 0.035539,
     "end_time": "2024-05-18T20:17:39.631036",
     "exception": false,
     "start_time": "2024-05-18T20:17:39.595497",
     "status": "completed"
    },
    "tags": []
   },
   "outputs": [],
   "source": [
    " df['high-low'] = df['High']-df['Low']"
   ]
  },
  {
   "cell_type": "code",
   "execution_count": 33,
   "id": "f138ebde",
   "metadata": {
    "execution": {
     "iopub.execute_input": "2024-05-18T20:17:39.685547Z",
     "iopub.status.busy": "2024-05-18T20:17:39.685112Z",
     "iopub.status.idle": "2024-05-18T20:17:39.691610Z",
     "shell.execute_reply": "2024-05-18T20:17:39.690418Z"
    },
    "papermill": {
     "duration": 0.036628,
     "end_time": "2024-05-18T20:17:39.694112",
     "exception": false,
     "start_time": "2024-05-18T20:17:39.657484",
     "status": "completed"
    },
    "tags": []
   },
   "outputs": [],
   "source": [
    "df['open-close'] = df['Open'] - df['Close']"
   ]
  },
  {
   "cell_type": "code",
   "execution_count": 34,
   "id": "3968b3ff",
   "metadata": {
    "execution": {
     "iopub.execute_input": "2024-05-18T20:17:39.745755Z",
     "iopub.status.busy": "2024-05-18T20:17:39.745353Z",
     "iopub.status.idle": "2024-05-18T20:17:39.752416Z",
     "shell.execute_reply": "2024-05-18T20:17:39.751367Z"
    },
    "papermill": {
     "duration": 0.035212,
     "end_time": "2024-05-18T20:17:39.754563",
     "exception": false,
     "start_time": "2024-05-18T20:17:39.719351",
     "status": "completed"
    },
    "tags": []
   },
   "outputs": [],
   "source": [
    "df['target'] = np.where(df['Close'].shift(-1)>df['Close'],1,0)"
   ]
  },
  {
   "cell_type": "code",
   "execution_count": 35,
   "id": "7f176808",
   "metadata": {
    "execution": {
     "iopub.execute_input": "2024-05-18T20:17:39.805662Z",
     "iopub.status.busy": "2024-05-18T20:17:39.805272Z",
     "iopub.status.idle": "2024-05-18T20:17:39.823215Z",
     "shell.execute_reply": "2024-05-18T20:17:39.822285Z"
    },
    "papermill": {
     "duration": 0.046655,
     "end_time": "2024-05-18T20:17:39.825779",
     "exception": false,
     "start_time": "2024-05-18T20:17:39.779124",
     "status": "completed"
    },
    "tags": []
   },
   "outputs": [
    {
     "data": {
      "text/html": [
       "<div>\n",
       "<style scoped>\n",
       "    .dataframe tbody tr th:only-of-type {\n",
       "        vertical-align: middle;\n",
       "    }\n",
       "\n",
       "    .dataframe tbody tr th {\n",
       "        vertical-align: top;\n",
       "    }\n",
       "\n",
       "    .dataframe thead th {\n",
       "        text-align: right;\n",
       "    }\n",
       "</style>\n",
       "<table border=\"1\" class=\"dataframe\">\n",
       "  <thead>\n",
       "    <tr style=\"text-align: right;\">\n",
       "      <th></th>\n",
       "      <th>Open</th>\n",
       "      <th>High</th>\n",
       "      <th>Low</th>\n",
       "      <th>Close</th>\n",
       "      <th>Volume</th>\n",
       "      <th>day</th>\n",
       "      <th>month</th>\n",
       "      <th>year</th>\n",
       "      <th>is_quarter_end</th>\n",
       "      <th>high-low</th>\n",
       "      <th>open-close</th>\n",
       "      <th>target</th>\n",
       "    </tr>\n",
       "  </thead>\n",
       "  <tbody>\n",
       "    <tr>\n",
       "      <th>0</th>\n",
       "      <td>19.000000</td>\n",
       "      <td>25.00</td>\n",
       "      <td>17.540001</td>\n",
       "      <td>23.889999</td>\n",
       "      <td>18766300</td>\n",
       "      <td>29</td>\n",
       "      <td>6</td>\n",
       "      <td>2010</td>\n",
       "      <td>1</td>\n",
       "      <td>7.459999</td>\n",
       "      <td>-4.889999</td>\n",
       "      <td>0</td>\n",
       "    </tr>\n",
       "    <tr>\n",
       "      <th>1</th>\n",
       "      <td>25.790001</td>\n",
       "      <td>30.42</td>\n",
       "      <td>23.299999</td>\n",
       "      <td>23.830000</td>\n",
       "      <td>17187100</td>\n",
       "      <td>30</td>\n",
       "      <td>6</td>\n",
       "      <td>2010</td>\n",
       "      <td>1</td>\n",
       "      <td>7.120001</td>\n",
       "      <td>1.960001</td>\n",
       "      <td>0</td>\n",
       "    </tr>\n",
       "    <tr>\n",
       "      <th>2</th>\n",
       "      <td>25.000000</td>\n",
       "      <td>25.92</td>\n",
       "      <td>20.270000</td>\n",
       "      <td>21.959999</td>\n",
       "      <td>8218800</td>\n",
       "      <td>1</td>\n",
       "      <td>7</td>\n",
       "      <td>2010</td>\n",
       "      <td>0</td>\n",
       "      <td>5.650000</td>\n",
       "      <td>3.040001</td>\n",
       "      <td>0</td>\n",
       "    </tr>\n",
       "    <tr>\n",
       "      <th>3</th>\n",
       "      <td>23.000000</td>\n",
       "      <td>23.10</td>\n",
       "      <td>18.709999</td>\n",
       "      <td>19.200001</td>\n",
       "      <td>5139800</td>\n",
       "      <td>2</td>\n",
       "      <td>7</td>\n",
       "      <td>2010</td>\n",
       "      <td>0</td>\n",
       "      <td>4.390001</td>\n",
       "      <td>3.799999</td>\n",
       "      <td>0</td>\n",
       "    </tr>\n",
       "    <tr>\n",
       "      <th>4</th>\n",
       "      <td>20.000000</td>\n",
       "      <td>20.00</td>\n",
       "      <td>15.830000</td>\n",
       "      <td>16.110001</td>\n",
       "      <td>6866900</td>\n",
       "      <td>6</td>\n",
       "      <td>7</td>\n",
       "      <td>2010</td>\n",
       "      <td>0</td>\n",
       "      <td>4.170000</td>\n",
       "      <td>3.889999</td>\n",
       "      <td>0</td>\n",
       "    </tr>\n",
       "  </tbody>\n",
       "</table>\n",
       "</div>"
      ],
      "text/plain": [
       "        Open   High        Low      Close    Volume  day  month  year  \\\n",
       "0  19.000000  25.00  17.540001  23.889999  18766300   29      6  2010   \n",
       "1  25.790001  30.42  23.299999  23.830000  17187100   30      6  2010   \n",
       "2  25.000000  25.92  20.270000  21.959999   8218800    1      7  2010   \n",
       "3  23.000000  23.10  18.709999  19.200001   5139800    2      7  2010   \n",
       "4  20.000000  20.00  15.830000  16.110001   6866900    6      7  2010   \n",
       "\n",
       "   is_quarter_end  high-low  open-close  target  \n",
       "0               1  7.459999   -4.889999       0  \n",
       "1               1  7.120001    1.960001       0  \n",
       "2               0  5.650000    3.040001       0  \n",
       "3               0  4.390001    3.799999       0  \n",
       "4               0  4.170000    3.889999       0  "
      ]
     },
     "execution_count": 35,
     "metadata": {},
     "output_type": "execute_result"
    }
   ],
   "source": [
    "df.head()"
   ]
  },
  {
   "cell_type": "code",
   "execution_count": 36,
   "id": "91608832",
   "metadata": {
    "execution": {
     "iopub.execute_input": "2024-05-18T20:17:39.878131Z",
     "iopub.status.busy": "2024-05-18T20:17:39.877388Z",
     "iopub.status.idle": "2024-05-18T20:17:39.894047Z",
     "shell.execute_reply": "2024-05-18T20:17:39.892771Z"
    },
    "papermill": {
     "duration": 0.045768,
     "end_time": "2024-05-18T20:17:39.896759",
     "exception": false,
     "start_time": "2024-05-18T20:17:39.850991",
     "status": "completed"
    },
    "tags": []
   },
   "outputs": [
    {
     "data": {
      "text/html": [
       "<div>\n",
       "<style scoped>\n",
       "    .dataframe tbody tr th:only-of-type {\n",
       "        vertical-align: middle;\n",
       "    }\n",
       "\n",
       "    .dataframe tbody tr th {\n",
       "        vertical-align: top;\n",
       "    }\n",
       "\n",
       "    .dataframe thead th {\n",
       "        text-align: right;\n",
       "    }\n",
       "</style>\n",
       "<table border=\"1\" class=\"dataframe\">\n",
       "  <thead>\n",
       "    <tr style=\"text-align: right;\">\n",
       "      <th></th>\n",
       "      <th>Open</th>\n",
       "      <th>High</th>\n",
       "      <th>Low</th>\n",
       "      <th>Close</th>\n",
       "      <th>Volume</th>\n",
       "      <th>day</th>\n",
       "      <th>month</th>\n",
       "      <th>year</th>\n",
       "      <th>is_quarter_end</th>\n",
       "      <th>high-low</th>\n",
       "      <th>open-close</th>\n",
       "      <th>target</th>\n",
       "    </tr>\n",
       "  </thead>\n",
       "  <tbody>\n",
       "    <tr>\n",
       "      <th>1687</th>\n",
       "      <td>244.820007</td>\n",
       "      <td>246.850006</td>\n",
       "      <td>242.779999</td>\n",
       "      <td>246.169998</td>\n",
       "      <td>3010700</td>\n",
       "      <td>13</td>\n",
       "      <td>3</td>\n",
       "      <td>2017</td>\n",
       "      <td>1</td>\n",
       "      <td>4.070007</td>\n",
       "      <td>-1.349991</td>\n",
       "      <td>1</td>\n",
       "    </tr>\n",
       "    <tr>\n",
       "      <th>1688</th>\n",
       "      <td>246.110001</td>\n",
       "      <td>258.119995</td>\n",
       "      <td>246.020004</td>\n",
       "      <td>258.000000</td>\n",
       "      <td>7575500</td>\n",
       "      <td>14</td>\n",
       "      <td>3</td>\n",
       "      <td>2017</td>\n",
       "      <td>1</td>\n",
       "      <td>12.099991</td>\n",
       "      <td>-11.889999</td>\n",
       "      <td>0</td>\n",
       "    </tr>\n",
       "    <tr>\n",
       "      <th>1689</th>\n",
       "      <td>257.000000</td>\n",
       "      <td>261.000000</td>\n",
       "      <td>254.270004</td>\n",
       "      <td>255.729996</td>\n",
       "      <td>4816600</td>\n",
       "      <td>15</td>\n",
       "      <td>3</td>\n",
       "      <td>2017</td>\n",
       "      <td>1</td>\n",
       "      <td>6.729996</td>\n",
       "      <td>1.270004</td>\n",
       "      <td>1</td>\n",
       "    </tr>\n",
       "    <tr>\n",
       "      <th>1690</th>\n",
       "      <td>262.399994</td>\n",
       "      <td>265.750000</td>\n",
       "      <td>259.059998</td>\n",
       "      <td>262.049988</td>\n",
       "      <td>7100400</td>\n",
       "      <td>16</td>\n",
       "      <td>3</td>\n",
       "      <td>2017</td>\n",
       "      <td>1</td>\n",
       "      <td>6.690002</td>\n",
       "      <td>0.350006</td>\n",
       "      <td>0</td>\n",
       "    </tr>\n",
       "    <tr>\n",
       "      <th>1691</th>\n",
       "      <td>264.000000</td>\n",
       "      <td>265.329987</td>\n",
       "      <td>261.200012</td>\n",
       "      <td>261.500000</td>\n",
       "      <td>6475900</td>\n",
       "      <td>17</td>\n",
       "      <td>3</td>\n",
       "      <td>2017</td>\n",
       "      <td>1</td>\n",
       "      <td>4.129975</td>\n",
       "      <td>2.500000</td>\n",
       "      <td>0</td>\n",
       "    </tr>\n",
       "  </tbody>\n",
       "</table>\n",
       "</div>"
      ],
      "text/plain": [
       "            Open        High         Low       Close   Volume  day  month  \\\n",
       "1687  244.820007  246.850006  242.779999  246.169998  3010700   13      3   \n",
       "1688  246.110001  258.119995  246.020004  258.000000  7575500   14      3   \n",
       "1689  257.000000  261.000000  254.270004  255.729996  4816600   15      3   \n",
       "1690  262.399994  265.750000  259.059998  262.049988  7100400   16      3   \n",
       "1691  264.000000  265.329987  261.200012  261.500000  6475900   17      3   \n",
       "\n",
       "      year  is_quarter_end   high-low  open-close  target  \n",
       "1687  2017               1   4.070007   -1.349991       1  \n",
       "1688  2017               1  12.099991  -11.889999       0  \n",
       "1689  2017               1   6.729996    1.270004       1  \n",
       "1690  2017               1   6.690002    0.350006       0  \n",
       "1691  2017               1   4.129975    2.500000       0  "
      ]
     },
     "execution_count": 36,
     "metadata": {},
     "output_type": "execute_result"
    }
   ],
   "source": [
    "df.tail()"
   ]
  },
  {
   "cell_type": "code",
   "execution_count": 37,
   "id": "7c2fc337",
   "metadata": {
    "execution": {
     "iopub.execute_input": "2024-05-18T20:17:39.948821Z",
     "iopub.status.busy": "2024-05-18T20:17:39.948385Z",
     "iopub.status.idle": "2024-05-18T20:17:40.622659Z",
     "shell.execute_reply": "2024-05-18T20:17:40.621256Z"
    },
    "papermill": {
     "duration": 0.703834,
     "end_time": "2024-05-18T20:17:40.625730",
     "exception": false,
     "start_time": "2024-05-18T20:17:39.921896",
     "status": "completed"
    },
    "tags": []
   },
   "outputs": [
    {
     "data": {
      "image/png": "[encoded data removed]",
      "text/plain": [
       "<Figure size 640x480 with 2 Axes>"
      ]
     },
     "metadata": {},
     "output_type": "display_data"
    }
   ],
   "source": [
    "sb.heatmap(df.corr()>0.9,cbar=True,annot=True)\n",
    "plt.show()"
   ]
  },
  {
   "cell_type": "code",
   "execution_count": 38,
   "id": "4abc76d9",
   "metadata": {
    "execution": {
     "iopub.execute_input": "2024-05-18T20:17:40.680790Z",
     "iopub.status.busy": "2024-05-18T20:17:40.680381Z",
     "iopub.status.idle": "2024-05-18T20:17:40.965827Z",
     "shell.execute_reply": "2024-05-18T20:17:40.964664Z"
    },
    "papermill": {
     "duration": 0.316185,
     "end_time": "2024-05-18T20:17:40.968839",
     "exception": false,
     "start_time": "2024-05-18T20:17:40.652654",
     "status": "completed"
    },
    "tags": []
   },
   "outputs": [],
   "source": [
    "from sklearn.preprocessing import StandardScaler\n",
    "from sklearn.model_selection import train_test_split"
   ]
  },
  {
   "cell_type": "code",
   "execution_count": 39,
   "id": "789d3366",
   "metadata": {
    "execution": {
     "iopub.execute_input": "2024-05-18T20:17:41.023313Z",
     "iopub.status.busy": "2024-05-18T20:17:41.022909Z",
     "iopub.status.idle": "2024-05-18T20:17:41.034482Z",
     "shell.execute_reply": "2024-05-18T20:17:41.033068Z"
    },
    "papermill": {
     "duration": 0.041651,
     "end_time": "2024-05-18T20:17:41.036899",
     "exception": false,
     "start_time": "2024-05-18T20:17:40.995248",
     "status": "completed"
    },
    "tags": []
   },
   "outputs": [],
   "source": [
    "scaler = StandardScaler()\n",
    "X= df[['open-close','high-low','is_quarter_end']]\n",
    "y = df['target']\n",
    "X = scaler.fit_transform(X)"
   ]
  },
  {
   "cell_type": "code",
   "execution_count": 40,
   "id": "0ab2428d",
   "metadata": {
    "execution": {
     "iopub.execute_input": "2024-05-18T20:17:41.090970Z",
     "iopub.status.busy": "2024-05-18T20:17:41.090191Z",
     "iopub.status.idle": "2024-05-18T20:17:41.098023Z",
     "shell.execute_reply": "2024-05-18T20:17:41.097186Z"
    },
    "papermill": {
     "duration": 0.03748,
     "end_time": "2024-05-18T20:17:41.100356",
     "exception": false,
     "start_time": "2024-05-18T20:17:41.062876",
     "status": "completed"
    },
    "tags": []
   },
   "outputs": [],
   "source": [
    "X_train, X_test, y_train, y_test = train_test_split(X,y,test_size = 0.1,random_state =2022)"
   ]
  },
  {
   "cell_type": "code",
   "execution_count": 41,
   "id": "3b2dd117",
   "metadata": {
    "execution": {
     "iopub.execute_input": "2024-05-18T20:17:41.155363Z",
     "iopub.status.busy": "2024-05-18T20:17:41.154042Z",
     "iopub.status.idle": "2024-05-18T20:17:41.160944Z",
     "shell.execute_reply": "2024-05-18T20:17:41.159635Z"
    },
    "papermill": {
     "duration": 0.036765,
     "end_time": "2024-05-18T20:17:41.163387",
     "exception": false,
     "start_time": "2024-05-18T20:17:41.126622",
     "status": "completed"
    },
    "tags": []
   },
   "outputs": [
    {
     "name": "stdout",
     "output_type": "stream",
     "text": [
      "(1522, 3) (170, 3)\n"
     ]
    }
   ],
   "source": [
    "print(X_train.shape,X_test.shape)"
   ]
  },
  {
   "cell_type": "code",
   "execution_count": 42,
   "id": "02a26206",
   "metadata": {
    "execution": {
     "iopub.execute_input": "2024-05-18T20:17:41.218022Z",
     "iopub.status.busy": "2024-05-18T20:17:41.216872Z",
     "iopub.status.idle": "2024-05-18T20:17:41.327675Z",
     "shell.execute_reply": "2024-05-18T20:17:41.326242Z"
    },
    "papermill": {
     "duration": 0.141303,
     "end_time": "2024-05-18T20:17:41.330616",
     "exception": false,
     "start_time": "2024-05-18T20:17:41.189313",
     "status": "completed"
    },
    "tags": []
   },
   "outputs": [],
   "source": [
    "from sklearn.linear_model import LogisticRegression\n",
    "log_model = LogisticRegression()"
   ]
  },
  {
   "cell_type": "code",
   "execution_count": 43,
   "id": "ddc5bca3",
   "metadata": {
    "execution": {
     "iopub.execute_input": "2024-05-18T20:17:41.386877Z",
     "iopub.status.busy": "2024-05-18T20:17:41.385810Z",
     "iopub.status.idle": "2024-05-18T20:17:41.391072Z",
     "shell.execute_reply": "2024-05-18T20:17:41.390263Z"
    },
    "papermill": {
     "duration": 0.035767,
     "end_time": "2024-05-18T20:17:41.393426",
     "exception": false,
     "start_time": "2024-05-18T20:17:41.357659",
     "status": "completed"
    },
    "tags": []
   },
   "outputs": [],
   "source": [
    "from sklearn.metrics import roc_auc_score\n"
   ]
  },
  {
   "cell_type": "code",
   "execution_count": 44,
   "id": "523ecd21",
   "metadata": {
    "execution": {
     "iopub.execute_input": "2024-05-18T20:17:41.448010Z",
     "iopub.status.busy": "2024-05-18T20:17:41.446823Z",
     "iopub.status.idle": "2024-05-18T20:17:41.453212Z",
     "shell.execute_reply": "2024-05-18T20:17:41.452273Z"
    },
    "papermill": {
     "duration": 0.035943,
     "end_time": "2024-05-18T20:17:41.455374",
     "exception": false,
     "start_time": "2024-05-18T20:17:41.419431",
     "status": "completed"
    },
    "tags": []
   },
   "outputs": [
    {
     "data": {
      "text/plain": [
       "(170,)"
      ]
     },
     "execution_count": 44,
     "metadata": {},
     "output_type": "execute_result"
    }
   ],
   "source": [
    "y_test.shape"
   ]
  },
  {
   "cell_type": "code",
   "execution_count": 45,
   "id": "ea733209",
   "metadata": {
    "execution": {
     "iopub.execute_input": "2024-05-18T20:17:41.509853Z",
     "iopub.status.busy": "2024-05-18T20:17:41.509112Z",
     "iopub.status.idle": "2024-05-18T20:17:41.532958Z",
     "shell.execute_reply": "2024-05-18T20:17:41.531898Z"
    },
    "papermill": {
     "duration": 0.053972,
     "end_time": "2024-05-18T20:17:41.535559",
     "exception": false,
     "start_time": "2024-05-18T20:17:41.481587",
     "status": "completed"
    },
    "tags": []
   },
   "outputs": [
    {
     "name": "stdout",
     "output_type": "stream",
     "text": [
      "trainingScore:0.5191709844559586\n",
      "validScore:0.5435330347144457\n"
     ]
    }
   ],
   "source": [
    "log_model.fit(X_train,y_train)\n",
    "log_train_pred = log_model.predict_proba(X_train)\n",
    "print(f\"trainingScore:{roc_auc_score(y_train,log_train_pred[:,1])}\")\n",
    "log_test_pred = log_model.predict_proba(X_test)\n",
    "print(f\"validScore:{roc_auc_score(y_test,log_test_pred[:,1])}\")"
   ]
  },
  {
   "cell_type": "code",
   "execution_count": 46,
   "id": "da0b2808",
   "metadata": {
    "execution": {
     "iopub.execute_input": "2024-05-18T20:17:41.592083Z",
     "iopub.status.busy": "2024-05-18T20:17:41.591097Z",
     "iopub.status.idle": "2024-05-18T20:17:42.174528Z",
     "shell.execute_reply": "2024-05-18T20:17:42.172418Z"
    },
    "papermill": {
     "duration": 0.616041,
     "end_time": "2024-05-18T20:17:42.177864",
     "exception": false,
     "start_time": "2024-05-18T20:17:41.561823",
     "status": "completed"
    },
    "tags": []
   },
   "outputs": [
    {
     "name": "stdout",
     "output_type": "stream",
     "text": [
      "trainingScore:0.4719300518134715\n",
      "trainingScore:0.445548712206047\n"
     ]
    }
   ],
   "source": [
    "from sklearn.svm import SVC\n",
    "svc = SVC(kernel='poly',probability=True)\n",
    "svc.fit(X_train,y_train)\n",
    "svc_train_pred = svc.predict_proba(X_train)\n",
    "print(f\"trainingScore:{roc_auc_score(y_train,svc_train_pred[:,1])}\")\n",
    "svc_test_pred = svc.predict_proba(X_test)\n",
    "print(f\"trainingScore:{roc_auc_score(y_test,svc_test_pred[:,1])}\")\n",
    "\n"
   ]
  },
  {
   "cell_type": "code",
   "execution_count": 47,
   "id": "e61c2c5f",
   "metadata": {
    "execution": {
     "iopub.execute_input": "2024-05-18T20:17:42.235792Z",
     "iopub.status.busy": "2024-05-18T20:17:42.234873Z",
     "iopub.status.idle": "2024-05-18T20:17:42.569625Z",
     "shell.execute_reply": "2024-05-18T20:17:42.568578Z"
    },
    "papermill": {
     "duration": 0.365483,
     "end_time": "2024-05-18T20:17:42.572419",
     "exception": false,
     "start_time": "2024-05-18T20:17:42.206936",
     "status": "completed"
    },
    "tags": []
   },
   "outputs": [
    {
     "name": "stdout",
     "output_type": "stream",
     "text": [
      "trainingScore:0.9633229706390327\n",
      "trainingScore:0.5105683090705487\n"
     ]
    }
   ],
   "source": [
    "from xgboost import XGBClassifier\n",
    "xgbc = XGBClassifier()\n",
    "xgbc.fit(X_train,y_train)\n",
    "xgbc_train_pred = xgbc.predict_proba(X_train)\n",
    "print(f\"trainingScore:{roc_auc_score(y_train,xgbc_train_pred[:,1])}\")\n",
    "xgbc_test_pred = xgbc.predict_proba(X_test)\n",
    "print(f\"trainingScore:{roc_auc_score(y_test,xgbc_test_pred[:,1])}\")"
   ]
  },
  {
   "cell_type": "code",
   "execution_count": 48,
   "id": "d8217485",
   "metadata": {
    "execution": {
     "iopub.execute_input": "2024-05-18T20:17:42.632180Z",
     "iopub.status.busy": "2024-05-18T20:17:42.631756Z",
     "iopub.status.idle": "2024-05-18T20:17:42.638742Z",
     "shell.execute_reply": "2024-05-18T20:17:42.637608Z"
    },
    "papermill": {
     "duration": 0.038359,
     "end_time": "2024-05-18T20:17:42.641503",
     "exception": false,
     "start_time": "2024-05-18T20:17:42.603144",
     "status": "completed"
    },
    "tags": []
   },
   "outputs": [],
   "source": [
    "from sklearn.metrics import ConfusionMatrixDisplay,confusion_matrix\n",
    "y_pred = log_model.predict(X_test)\n",
    "cm = confusion_matrix(y_test, y_pred)\n"
   ]
  },
  {
   "cell_type": "code",
   "execution_count": 49,
   "id": "72ed8d4f",
   "metadata": {
    "execution": {
     "iopub.execute_input": "2024-05-18T20:17:42.699290Z",
     "iopub.status.busy": "2024-05-18T20:17:42.698471Z",
     "iopub.status.idle": "2024-05-18T20:17:43.015568Z",
     "shell.execute_reply": "2024-05-18T20:17:43.014091Z"
    },
    "papermill": {
     "duration": 0.350091,
     "end_time": "2024-05-18T20:17:43.018768",
     "exception": false,
     "start_time": "2024-05-18T20:17:42.668677",
     "status": "completed"
    },
    "tags": []
   },
   "outputs": [
    {
     "data": {
      "text/plain": [
       "<sklearn.metrics._plot.confusion_matrix.ConfusionMatrixDisplay at 0x7e50ab859c90>"
      ]
     },
     "execution_count": 49,
     "metadata": {},
     "output_type": "execute_result"
    },
    {
     "data": {
      "image/png": "[encoded data removed]",
      "text/plain": [
       "<Figure size 640x480 with 2 Axes>"
      ]
     },
     "metadata": {},
     "output_type": "display_data"
    }
   ],
   "source": [
    "ConfusionMatrixDisplay(confusion_matrix = cm).plot()"
   ]
  },
  {
   "cell_type": "code",
   "execution_count": null,
   "id": "944605e8",
   "metadata": {
    "papermill": {
     "duration": 0.027522,
     "end_time": "2024-05-18T20:17:43.074088",
     "exception": false,
     "start_time": "2024-05-18T20:17:43.046566",
     "status": "completed"
    },
    "tags": []
   },
   "outputs": [],
   "source": []
  }
 ],
 "metadata": {
  "kaggle": {
   "accelerator": "none",
   "dataSources": [
    {
     "datasetId": 1007,
     "sourceId": 1814,
     "sourceType": "datasetVersion"
    }
   ],
   "dockerImageVersionId": 30698,
   "isGpuEnabled": false,
   "isInternetEnabled": true,
   "language": "python",
   "sourceType": "notebook"
  },
  "kernelspec": {
   "display_name": "Python 3",
   "language": "python",
   "name": "python3"
  },
  "language_info": {
   "codemirror_mode": {
    "name": "ipython",
    "version": 3
   },
   "file_extension": ".py",
   "mimetype": "text/x-python",
   "name": "python",
   "nbconvert_exporter": "python",
   "pygments_lexer": "ipython3",
   "version": "3.10.13"
  },
  "papermill": {
   "default_parameters": {},
   "duration": 16.705682,
   "end_time": "2024-05-18T20:17:43.824820",
   "environment_variables": {},
   "exception": null,
   "input_path": "__notebook__.ipynb",
   "output_path": "__notebook__.ipynb",
   "parameters": {},
   "start_time": "2024-05-18T20:17:27.119138",
   "version": "2.5.0"
  }
 },
 "nbformat": 4,
 "nbformat_minor": 5
}
